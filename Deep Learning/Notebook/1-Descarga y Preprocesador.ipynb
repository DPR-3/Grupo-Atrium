{
 "cells": [
  {
   "cell_type": "markdown",
   "id": "4259b0a2-e1fc-43c2-94f5-ef67b4a2b6d9",
   "metadata": {},
   "source": [
    "PARTE 1\n"
   ]
  },
  {
   "cell_type": "markdown",
   "id": "bf4f4ef0",
   "metadata": {},
   "source": [
    "Primero vamos a comenzar descargando 100 videos por categoria (coches, mascotas y comida)"
   ]
  },
  {
   "cell_type": "code",
   "execution_count": 2,
   "id": "38b4cc08-d3c3-4733-977d-0e3efbbbe39d",
   "metadata": {},
   "outputs": [
    {
     "name": "stdout",
     "output_type": "stream",
     "text": [
      "                                                         \r"
     ]
    },
    {
     "name": "stderr",
     "output_type": "stream",
     "text": [
      "ERROR: m3u8 download detected but ffmpeg could not be found. Please install\n",
      "ERROR: Unable to download video: [WinError 2] El sistema no puede encontrar el archivo especificado: 'videos\\\\coches\\\\Mecum Kissimmee： Saturday, January 18, 2025 2025-01-18 22_11-1tSIO9uw4r8.mp4.part'\n"
     ]
    },
    {
     "name": "stdout",
     "output_type": "stream",
     "text": [
      "                             \r"
     ]
    },
    {
     "name": "stderr",
     "output_type": "stream",
     "text": [
      "ERROR: unable to download video data: HTTP Error 416: Requested range not satisfiable\n"
     ]
    },
    {
     "name": "stdout",
     "output_type": "stream",
     "text": [
      "                                                                         \r"
     ]
    },
    {
     "name": "stderr",
     "output_type": "stream",
     "text": [
      "WARNING: moYafwZTv3Q: Possible MPEG-TS in MP4 container or malformed AAC timestamps. Install ffmpeg to fix this automatically\n"
     ]
    },
    {
     "name": "stdout",
     "output_type": "stream",
     "text": [
      "                                                                         \r"
     ]
    },
    {
     "name": "stderr",
     "output_type": "stream",
     "text": [
      "WARNING: EjaKWsOgl3s: Possible MPEG-TS in MP4 container or malformed AAC timestamps. Install ffmpeg to fix this automatically\n"
     ]
    },
    {
     "name": "stdout",
     "output_type": "stream",
     "text": [
      "                                                                        \r"
     ]
    },
    {
     "name": "stderr",
     "output_type": "stream",
     "text": [
      "WARNING: hzBpnJ9OYHE: Possible MPEG-TS in MP4 container or malformed AAC timestamps. Install ffmpeg to fix this automatically\n"
     ]
    },
    {
     "name": "stdout",
     "output_type": "stream",
     "text": [
      "                                                                         \r"
     ]
    },
    {
     "name": "stderr",
     "output_type": "stream",
     "text": [
      "WARNING: yGA3X2MQaL4: Possible MPEG-TS in MP4 container or malformed AAC timestamps. Install ffmpeg to fix this automatically\n"
     ]
    },
    {
     "name": "stdout",
     "output_type": "stream",
     "text": [
      "                                                                         \r"
     ]
    },
    {
     "name": "stderr",
     "output_type": "stream",
     "text": [
      "WARNING: FqqYKnXJFbM: Possible MPEG-TS in MP4 container or malformed AAC timestamps. Install ffmpeg to fix this automatically\n"
     ]
    },
    {
     "name": "stdout",
     "output_type": "stream",
     "text": [
      "                                                                         \r"
     ]
    },
    {
     "name": "stderr",
     "output_type": "stream",
     "text": [
      "WARNING: 8UnObnov1cE: Possible MPEG-TS in MP4 container or malformed AAC timestamps. Install ffmpeg to fix this automatically\n"
     ]
    },
    {
     "name": "stdout",
     "output_type": "stream",
     "text": [
      "                                                                         \r"
     ]
    },
    {
     "name": "stderr",
     "output_type": "stream",
     "text": [
      "WARNING: xq08rFrRf9k: Possible MPEG-TS in MP4 container or malformed AAC timestamps. Install ffmpeg to fix this automatically\n"
     ]
    },
    {
     "name": "stdout",
     "output_type": "stream",
     "text": [
      "                                                                         \r"
     ]
    },
    {
     "name": "stderr",
     "output_type": "stream",
     "text": [
      "WARNING: EMMJhN0VDIo: Possible MPEG-TS in MP4 container or malformed AAC timestamps. Install ffmpeg to fix this automatically\n"
     ]
    },
    {
     "name": "stdout",
     "output_type": "stream",
     "text": [
      "                                                                         \r"
     ]
    },
    {
     "name": "stderr",
     "output_type": "stream",
     "text": [
      "WARNING: m1cIDW7rw58: Possible MPEG-TS in MP4 container or malformed AAC timestamps. Install ffmpeg to fix this automatically\n"
     ]
    },
    {
     "name": "stdout",
     "output_type": "stream",
     "text": [
      "                                                                         \r"
     ]
    },
    {
     "name": "stderr",
     "output_type": "stream",
     "text": [
      "WARNING: qeWZU1XlaNk: Possible MPEG-TS in MP4 container or malformed AAC timestamps. Install ffmpeg to fix this automatically\n"
     ]
    },
    {
     "name": "stdout",
     "output_type": "stream",
     "text": [
      "                                                                       \r"
     ]
    },
    {
     "name": "stderr",
     "output_type": "stream",
     "text": [
      "WARNING: tYqG32Utu60: Possible MPEG-TS in MP4 container or malformed AAC timestamps. Install ffmpeg to fix this automatically\n"
     ]
    },
    {
     "name": "stdout",
     "output_type": "stream",
     "text": [
      "                                                                        \r"
     ]
    },
    {
     "name": "stderr",
     "output_type": "stream",
     "text": [
      "WARNING: AP8zx1NRf6E: Possible MPEG-TS in MP4 container or malformed AAC timestamps. Install ffmpeg to fix this automatically\n"
     ]
    },
    {
     "name": "stdout",
     "output_type": "stream",
     "text": [
      "Error al descargar videos: 'coches deportivos': Maximum number of downloads reached, stopping due to --max-downloads\n",
      "                                                                         \r"
     ]
    },
    {
     "name": "stderr",
     "output_type": "stream",
     "text": [
      "WARNING: -jT_hhSbpoc: Possible MPEG-TS in MP4 container or malformed AAC timestamps. Install ffmpeg to fix this automatically\n"
     ]
    },
    {
     "name": "stdout",
     "output_type": "stream",
     "text": [
      "                                                                        \r"
     ]
    },
    {
     "name": "stderr",
     "output_type": "stream",
     "text": [
      "WARNING: 3JnjypeOqvI: Possible MPEG-TS in MP4 container or malformed AAC timestamps. Install ffmpeg to fix this automatically\n"
     ]
    },
    {
     "name": "stdout",
     "output_type": "stream",
     "text": [
      "                                                                         \r"
     ]
    },
    {
     "name": "stderr",
     "output_type": "stream",
     "text": [
      "WARNING: Wpb8KYIlLsw: Possible MPEG-TS in MP4 container or malformed AAC timestamps. Install ffmpeg to fix this automatically\n"
     ]
    },
    {
     "name": "stdout",
     "output_type": "stream",
     "text": [
      "                                                                       \r"
     ]
    },
    {
     "name": "stderr",
     "output_type": "stream",
     "text": [
      "WARNING: nvafbCj91IU: Possible MPEG-TS in MP4 container or malformed AAC timestamps. Install ffmpeg to fix this automatically\n"
     ]
    },
    {
     "name": "stdout",
     "output_type": "stream",
     "text": [
      "Error al descargar videos: 'perros graciosos': Maximum number of downloads reached, stopping due to --max-downloads\n",
      "                                                                        \r"
     ]
    },
    {
     "name": "stderr",
     "output_type": "stream",
     "text": [
      "WARNING: CbiZBhzBtF4: Possible MPEG-TS in MP4 container or malformed AAC timestamps. Install ffmpeg to fix this automatically\n"
     ]
    },
    {
     "name": "stdout",
     "output_type": "stream",
     "text": [
      "                                                                        \r"
     ]
    },
    {
     "name": "stderr",
     "output_type": "stream",
     "text": [
      "WARNING: onESy--Zftk: Possible MPEG-TS in MP4 container or malformed AAC timestamps. Install ffmpeg to fix this automatically\n"
     ]
    },
    {
     "name": "stdout",
     "output_type": "stream",
     "text": [
      "                                                                        \r"
     ]
    },
    {
     "name": "stderr",
     "output_type": "stream",
     "text": [
      "WARNING: VvXw7JDOasQ: Possible MPEG-TS in MP4 container or malformed AAC timestamps. Install ffmpeg to fix this automatically\n"
     ]
    },
    {
     "name": "stdout",
     "output_type": "stream",
     "text": [
      "                                                                        \r"
     ]
    },
    {
     "name": "stderr",
     "output_type": "stream",
     "text": [
      "WARNING: RKOOBNSbZPI: Possible MPEG-TS in MP4 container or malformed AAC timestamps. Install ffmpeg to fix this automatically\n"
     ]
    },
    {
     "name": "stdout",
     "output_type": "stream",
     "text": [
      "                                                                        \r"
     ]
    },
    {
     "name": "stderr",
     "output_type": "stream",
     "text": [
      "WARNING: Ehdo4Clll_Y: Possible MPEG-TS in MP4 container or malformed AAC timestamps. Install ffmpeg to fix this automatically\n"
     ]
    },
    {
     "name": "stdout",
     "output_type": "stream",
     "text": [
      "Error al descargar videos: 'recetas faciles': Maximum number of downloads reached, stopping due to --max-downloads\n"
     ]
    }
   ],
   "source": [
    "import yt_dlp\n",
    "import os\n",
    "import random\n",
    "import time\n",
    "\n",
    "def descargar_videos(consulta, directorio_destino, cantidad=100):\n",
    "    \"\"\"\n",
    "    Busca y descarga videos de Youtube.\n",
    "    \n",
    "    Args:\n",
    "        consulta: La consulta de busqueda\n",
    "        directorio_destino: El directorio donde se guardaran los videos\n",
    "        cantidad: La cantidad de videos a descargar.\n",
    "    \"\"\"\n",
    "    ydl_opts = {\n",
    "        'outtmpl': directorio_destino + '/%(title)s-%(id)s.%(ext)s',\n",
    "        'format': 'bestvideo[height<=240][ext=mp4]/best[ext=mp4]/best', # Formato de video a descargar\n",
    "        'ignoreerrors': True,\n",
    "        'quiet': True, #Modo silencioso para evitar mucha salida en consola\n",
    "        'nocheckcertificate': True, # Para evitar errores de certificado\n",
    "        'ratelimit': 1024*1024, # limita la velocidad de descarga a 1MB/s para no saturar la red\n",
    "        'throttling': 0.5, # Introducimos retardo entre descargas para evitar bloqueos\n",
    "        'no-check-formats': True, # Evita que se compruebe el formato de los videos\n",
    "        'merge_output_format': 'mp4', # Formato de salida para todos los videos\n",
    "        'max_downloads': cantidad,\n",
    "        }\n",
    "    \n",
    "    try:\n",
    "        with yt_dlp.YoutubeDL(ydl_opts) as ydl:\n",
    "            ydl.download([f\"ytsearch{cantidad}:{consulta}\"])\n",
    "            print(f\"Descarga de '{consulta}' completada. {cantidad} videos guardados en {directorio_destino}\")\n",
    "    except yt_dlp.utils.DownloadError as e:\n",
    "        print(f\"Error en la busqueda o descarga de '{consulta}': {e}\")\n",
    "    except Exception as e:\n",
    "        print(f\"Error al descargar videos: '{consulta}': {e}\")\n",
    "\n",
    "def descargar_categorias(categorias, directorio_base=\"videos\", cantidad=100):\n",
    "    \"\"\"\n",
    "    Descarga todos los videos de las categorias especificadas.\n",
    "    \n",
    "    Args:\n",
    "        categorias: Lista de categorias a descargar.\n",
    "        directorio_base: Directorio base donde se guardarán los videos.\n",
    "        cantidad: Cantidad de videos a descargar.\n",
    "    \"\"\"\n",
    "    for categoria, consulta in categorias.items():\n",
    "        directorio_categoria = os.path.join(directorio_base, categoria)\n",
    "        os.makedirs(directorio_categoria, exist_ok=True) # Crea el directorio si no existe\n",
    "        descargar_videos(consulta, directorio_categoria, cantidad)\n",
    "        time.sleep(random.randint(5, 15)) # Retardo aleatorio para evitar bloqueos\n",
    "\n",
    "# Definir las categorias y consultas a buscar\n",
    "categorias = {\n",
    "    \"coches\": \"coches deportivos\",\n",
    "    \"mascotas\": \"perros graciosos\",\n",
    "    \"comida\": \"recetas faciles\",\n",
    "}\n",
    "\n",
    "# Descargar los videos\n",
    "descargar_categorias(categorias, cantidad=100)\n",
    "        "
   ]
  },
  {
   "cell_type": "markdown",
   "id": "f0d93a8c",
   "metadata": {},
   "source": [
    "He escogido yt-dlp en lugar de otras librerias ya que actualmente está mas actualizado  y se adapta mejor a los cambios que Youtube hace.\n",
    "* Estructura:\n",
    "    * Función descargar_videos(): Esta función descarga los videos de la lista de videos que se le pasa como argumento.\n",
    "    * Función descargar_categorias(): Esta función recibe un diccionario con las categorias y sus respecticas consultas de busqueda. Itera sobre este diccionario y llama a la función descargar_videos() para descargar los videos de cada categoria. Ademas crea los directorios para cada categoria.\n",
    "    * Si necesito modificar algo de la descarga lo hago en descargar_videos(). Si necesito añadir mas categorias, lo hago en descargar_categorias()."
   ]
  },
  {
   "cell_type": "markdown",
   "id": "bf6739a2",
   "metadata": {},
   "source": [
    "PARTE 2 - PROCESADOR DE VIDEOS"
   ]
  },
  {
   "cell_type": "code",
   "execution_count": 1,
   "id": "84170a02",
   "metadata": {},
   "outputs": [],
   "source": [
    "import cv2 # OpenCV es para abrir los videos, leer los fotogramas, cambiarles el tamaño y guardarlos como imagenes\n",
    "import os # Esta libreria nos ayuda a crear carpetas y manejar las rutas de los archivos\n",
    "import traceback # Esta libreria nos ayuda a imprimir errores detallados\n",
    "\n",
    "def preprocesar_video(ruta_video, directorio_destino, framerate=3, resolucion=(224, 224)):\n",
    "    \"\"\"\n",
    "    Procesa un video, extrayendo fotogramas y redimensionandolos.\n",
    "\n",
    "    Args:\n",
    "        ruta_video (str): Ruta al archivo de video.\n",
    "        directorio_destino (str): Ruta al directorio de destino.\n",
    "        framerate (int): Tasa de fotogramas.\n",
    "        resolucion (tuple): Resolución de la imagen.\n",
    "        \"\"\"\n",
    "    try:\n",
    "        # 1. Obtener el nombre del video sin la extensión\n",
    "        nombre_video = os.path.splitext(os.path.basename(ruta_video))[0]\n",
    "        # 2. Crear el subdirectorio para el video\n",
    "        directorio_video= os.path.join(directorio_destino, nombre_video)\n",
    "        os.makedirs(directorio_video, exist_ok=True) # Crear el directorio si no existe, sin dar error si ya existe\n",
    "\n",
    "        # 3. Abrir el video\n",
    "        video = cv2.VideoCapture(ruta_video)\n",
    "        # 4. Obtener el framerate original\n",
    "        fps = video.get(cv2.CAP_PROP_FPS)\n",
    "        if fps == 0: # Si el framerate es 0, se intenta obtener el framerate del video\n",
    "            print (f\"Error: No se pudo obtener el framerate del video {ruta_video}\")\n",
    "            fps = 30\n",
    "        frame_count = 0 # Contador de frames guardados\n",
    "        frame_rate_ratio = fps / framerate # Ratio entre el framerate original y el framerate deseado\n",
    "        frame_number = 0 # Contador de frames totales\n",
    "\n",
    "        # 5. Bucle para leer fotogramas\n",
    "        while video.isOpened():\n",
    "            ret, frame = video.read() # Leer el fotograma. ret indica si se ha leido el fotograma correctamente\n",
    "            if not ret: # Si no se ha leido el fotograma correctamente, salir del bucle\n",
    "                break\n",
    "\n",
    "            # 6. Extraer fotograma segun el framerate deseado\n",
    "            if frame_number % int(round(frame_rate_ratio)) == 0:\n",
    "                # 7. Redimensionar el fotograma\n",
    "                frame = cv2.resize(frame, resolucion)\n",
    "                # 8. Guardar el fotograma\n",
    "                nombre_archivo = os.path.join(directorio_video, f\"{frame_count}.jpg\")\n",
    "                cv2.imwrite(nombre_archivo, frame)\n",
    "                frame_count += 1\n",
    "            frame_number += 1\n",
    "        \n",
    "        # 9. Liberar recursos\n",
    "        video.release()\n",
    "        print(f\"Video {ruta_video} procesado exitosamente.{frame_count} fotogramas guardados en {directorio_video}.\")\n",
    "    except Exception as e: # Manejo de errores\n",
    "        traceback.print_exc() # Imprimir el error detallado\n",
    "        print(f\"Error al procesar el video {ruta_video}: {e}\")\n",
    "    \n"
   ]
  },
  {
   "cell_type": "code",
   "execution_count": 3,
   "id": "1a3ec812",
   "metadata": {},
   "outputs": [
    {
     "name": "stdout",
     "output_type": "stream",
     "text": [
      "Video C:\\Users\\Usuario\\Desktop\\GitHub\\Grupo-Atrium\\Deep Learning\\videos\\coches\\$50 MILLION HYPERCAR GATHERING IN THE NETHERLANDS!-hQYRDNl-lGI.mp4 procesado exitosamente.2078 fotogramas guardados en frames\\coches\\$50 MILLION HYPERCAR GATHERING IN THE NETHERLANDS!-hQYRDNl-lGI.\n",
      "Video C:\\Users\\Usuario\\Desktop\\GitHub\\Grupo-Atrium\\Deep Learning\\videos\\coches\\10 Coches deportivos míticos ＂Made in USA＂-3gx3LtEyzq8.mp4 procesado exitosamente.3613 fotogramas guardados en frames\\coches\\10 Coches deportivos míticos ＂Made in USA＂-3gx3LtEyzq8.\n",
      "Video C:\\Users\\Usuario\\Desktop\\GitHub\\Grupo-Atrium\\Deep Learning\\videos\\coches\\10 coches deportivos muy recomendables： ¿nuevos o usados？-6IkT8obuk3o.mp4 procesado exitosamente.3341 fotogramas guardados en frames\\coches\\10 coches deportivos muy recomendables： ¿nuevos o usados？-6IkT8obuk3o.\n",
      "Video C:\\Users\\Usuario\\Desktop\\GitHub\\Grupo-Atrium\\Deep Learning\\videos\\coches\\20 Coches Más Caros Del Mundo-SCuSEfVgAQg.mp4 procesado exitosamente.5871 fotogramas guardados en frames\\coches\\20 Coches Más Caros Del Mundo-SCuSEfVgAQg.\n"
     ]
    },
    {
     "ename": "KeyboardInterrupt",
     "evalue": "",
     "output_type": "error",
     "traceback": [
      "\u001b[1;31m---------------------------------------------------------------------------\u001b[0m",
      "\u001b[1;31mKeyboardInterrupt\u001b[0m                         Traceback (most recent call last)",
      "Cell \u001b[1;32mIn[3], line 32\u001b[0m\n\u001b[0;32m     29\u001b[0m os\u001b[38;5;241m.\u001b[39mmakedirs(directorio_destino_categoria, exist_ok\u001b[38;5;241m=\u001b[39m\u001b[38;5;28;01mTrue\u001b[39;00m)\n\u001b[0;32m     31\u001b[0m \u001b[38;5;66;03m# 15. Procesar el directorio de la categoria\u001b[39;00m\n\u001b[1;32m---> 32\u001b[0m \u001b[43mprocesar_videos\u001b[49m\u001b[43m(\u001b[49m\u001b[43mdirectorio_videos_categoria\u001b[49m\u001b[43m,\u001b[49m\u001b[43m \u001b[49m\u001b[43mdirectorio_destino_categoria\u001b[49m\u001b[43m)\u001b[49m\n",
      "Cell \u001b[1;32mIn[3], line 14\u001b[0m, in \u001b[0;36mprocesar_videos\u001b[1;34m(directorio_videos, directorio_destino, framerate, resolucion)\u001b[0m\n\u001b[0;32m     12\u001b[0m ruta_video \u001b[38;5;241m=\u001b[39m os\u001b[38;5;241m.\u001b[39mpath\u001b[38;5;241m.\u001b[39mjoin(directorio_videos, nombre_archivo)    \u001b[38;5;66;03m# Obtener la ruta del archivo\u001b[39;00m\n\u001b[0;32m     13\u001b[0m \u001b[38;5;28;01mif\u001b[39;00m os\u001b[38;5;241m.\u001b[39mpath\u001b[38;5;241m.\u001b[39misfile(ruta_video): \u001b[38;5;66;03m# Comprobar si es un archivo (video) y no un directorio\u001b[39;00m\n\u001b[1;32m---> 14\u001b[0m     \u001b[43mpreprocesar_video\u001b[49m\u001b[43m(\u001b[49m\u001b[43mruta_video\u001b[49m\u001b[43m,\u001b[49m\u001b[43m \u001b[49m\u001b[43mdirectorio_destino\u001b[49m\u001b[43m,\u001b[49m\u001b[43m \u001b[49m\u001b[43mframerate\u001b[49m\u001b[43m,\u001b[49m\u001b[43m \u001b[49m\u001b[43mresolucion\u001b[49m\u001b[43m)\u001b[49m\n",
      "Cell \u001b[1;32mIn[1], line 35\u001b[0m, in \u001b[0;36mpreprocesar_video\u001b[1;34m(ruta_video, directorio_destino, framerate, resolucion)\u001b[0m\n\u001b[0;32m     33\u001b[0m \u001b[38;5;66;03m# 5. Bucle para leer fotogramas\u001b[39;00m\n\u001b[0;32m     34\u001b[0m \u001b[38;5;28;01mwhile\u001b[39;00m video\u001b[38;5;241m.\u001b[39misOpened():\n\u001b[1;32m---> 35\u001b[0m     ret, frame \u001b[38;5;241m=\u001b[39m \u001b[43mvideo\u001b[49m\u001b[38;5;241;43m.\u001b[39;49m\u001b[43mread\u001b[49m\u001b[43m(\u001b[49m\u001b[43m)\u001b[49m \u001b[38;5;66;03m# Leer el fotograma. ret indica si se ha leido el fotograma correctamente\u001b[39;00m\n\u001b[0;32m     36\u001b[0m     \u001b[38;5;28;01mif\u001b[39;00m \u001b[38;5;129;01mnot\u001b[39;00m ret: \u001b[38;5;66;03m# Si no se ha leido el fotograma correctamente, salir del bucle\u001b[39;00m\n\u001b[0;32m     37\u001b[0m         \u001b[38;5;28;01mbreak\u001b[39;00m\n",
      "\u001b[1;31mKeyboardInterrupt\u001b[0m: "
     ]
    }
   ],
   "source": [
    "\n",
    "def procesar_videos(directorio_videos, directorio_destino, framerate=3, resolucion=(224, 224)):\n",
    "    \"\"\"\n",
    "    Procesa todos los videos en un directorio.\n",
    "\n",
    "    Args:\n",
    "        directorio_videos (str): Ruta al directorio con los videos.\n",
    "        directorio_destino (str): Ruta al directorio donde se guardarán los fotogramas.\n",
    "        framerate (int): Tasa de fotogramas.\n",
    "        resolucion (tuple): Resolución de la imagen.\n",
    "    \"\"\"\n",
    "    for nombre_archivo in os.listdir(directorio_videos): # Iterar sobre los archivos en el directorio\n",
    "        ruta_video = os.path.join(directorio_videos, nombre_archivo)    # Obtener la ruta del archivo\n",
    "        if os.path.isfile(ruta_video): # Comprobar si es un archivo (video) y no un directorio\n",
    "            preprocesar_video(ruta_video, directorio_destino, framerate, resolucion) # Procesar el video\n",
    "\n",
    "# 10. Definir la carpeta principal donde se encuentran los videos\n",
    "directorio_principal_videos = r\"C:\\Users\\Usuario\\Desktop\\GitHub\\Grupo-Atrium\\Deep Learning\\videos\"\n",
    "\n",
    "# 11. Definir las categorias\n",
    "categorias = [\"coches\", \"mascotas\", \"comida\"]\n",
    "\n",
    "# 12. Iterar sobre las categorias y procesar los videos\n",
    "for categoria in categorias:\n",
    "    # 13. Construir las rutas de entrada y salida\n",
    "    directorio_videos_categoria = os.path.join(directorio_principal_videos, categoria) # Ruta de entrada a la carpeta videos\n",
    "    directorio_destino_categoria = os.path.join(\"frames\", categoria) # Ruta de salida a la carpeta frames\n",
    "    \n",
    "    # 14. Crear la carpeta destino si no existe\n",
    "    os.makedirs(directorio_destino_categoria, exist_ok=True)\n",
    "    \n",
    "    # 15. Procesar el directorio de la categoria\n",
    "    procesar_videos(directorio_videos_categoria, directorio_destino_categoria) \n"
   ]
  },
  {
   "cell_type": "markdown",
   "id": "e3268e02",
   "metadata": {},
   "source": [
    "* EXPLICACIÓN: \n",
    "Tomamos videos que están ordenados por categorías en carpetas (ej: \"videos/coches\", \"videos/mascotas\", \"videos/comida\") y sacamos fotos (fotogramas) de esos videos. Estas fotos las guardamos en una carpeta nueva llamada \"frames\", manteniendo la misma organización por categorías (ej: \"frames/coches\", \"frames/mascotas\", \"frames/comida\"). Dentro de cada carpeta de categoría en \"frames\", creamos subcarpetas con el nombre del video original, y ahí dentro guardamos las fotos."
   ]
  }
 ],
 "metadata": {
  "kernelspec": {
   "display_name": "Python 3",
   "language": "python",
   "name": "python3"
  },
  "language_info": {
   "codemirror_mode": {
    "name": "ipython",
    "version": 3
   },
   "file_extension": ".py",
   "mimetype": "text/x-python",
   "name": "python",
   "nbconvert_exporter": "python",
   "pygments_lexer": "ipython3",
   "version": "3.13.0"
  }
 },
 "nbformat": 4,
 "nbformat_minor": 5
}
