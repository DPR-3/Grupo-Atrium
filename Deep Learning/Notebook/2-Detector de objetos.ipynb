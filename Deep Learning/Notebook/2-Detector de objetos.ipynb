{
 "cells": [
  {
   "cell_type": "markdown",
   "metadata": {},
   "source": [
    "PARTE 3 - DETECTOR DE OBJETOS"
   ]
  },
  {
   "cell_type": "markdown",
   "metadata": {},
   "source": [
    "Se deberá conseguir una red neuronal convolucional de clasificación pre-entrenada que sea capaz de distinguir entre un buen número de objetos diferentes en imágenes (ej: Las 1000 clases diferentes de imagenet). Se creará un modelo a partir de esta red, cuya inferencia reciba un directorio con los fotogramas de un vídeo en orden y la salida sea un dataframe de pandas con 3 columnas: el número de fotograma, la clase más probable detectada y el grado de confianza que da la red para dicha clasificación."
   ]
  },
  {
   "cell_type": "code",
   "execution_count": null,
   "metadata": {},
   "outputs": [],
   "source": [
    "import torch \n",
    "import torchvision.models as models # Para acceder a los modelos pre-entrenados\n",
    "import torchvision.transforms as transforms # Para aplicar transformaciones a las imágenes\n",
    "from PIL import Image # Para manipular imágenes\n",
    "import pandas as pd # Para manipular datos\n",
    "import os # Para crear carpetas y manejar rutas de archivos\n",
    "import glob # Para buscar archivos\n",
    "import logging # Para el manejo de logs\n",
    "\n",
    "# Configuracion del logging: crear un archivo 'deteccion_objetos.log' para guardar los errores\n",
    "logging.basicConfig(filename='deteccion_objetos.log', level=logging.INFO)\n",
    "format='%(asctime)s %(levelname)s %(message)s'\n",
    "\n",
    "# 1. Cargar el modelo (ResNet50) y ponerlo en modo evaluacion\n",
    "try:\n",
    "    modelo = models.resnet50(pretrained=True) # Cargar el modelo\n",
    "    modelo.eval() # Ponerlo en modo evaluacion\n",
    "except Exception as e: # Manejo de errores\n",
    "    logging.error(f\"Error al cargar el modelo: {e}\") # Registrar el error\n",
    "    exit() # Cierre del programa si no se ha podido cargar el modelo\n",
    "\n",
    "# 2. Transformaciones para pre-procesar las imágenes\n",
    "transformaciones = transforms.Compose([\n",
    "    transforms.Resize(256), # Redimensionar las imágenes a 256x256\n",
    "    transforms.CenterCrop(224), # Cortar las imágenes a 224x224\n",
    "    transforms.ToTensor(), # Convertir a tensores\n",
    "    transforms.Normalize(mean=[0.485, 0.456, 0.406], std=[0.229, 0.224, 0.225]) # Normalizar los valores\n",
    "])\n",
    "\n"
   ]
  },
  {
   "cell_type": "code",
   "execution_count": null,
   "metadata": {},
   "outputs": [],
   "source": [
    "def procesar_fotograma(ruta_imagen):\n",
    "    \"\"\" Procesa un fotograma, devuelve la clase predicha y la confianza. \"\"\"\n",
    "    try:\n",
    "        imagen = Image.open(ruta_imagen).convert(\"RGB\") # Convertir a RGB\n",
    "        imagen_tensor = transformaciones(imagen).unsqueeze(0) # Aplica las transformaciones y añade una dimensión de lote (batch)\n",
    "\n",
    "        with torch.no_grad(): # Desactiva el calculo de gradientes\n",
    "            salida = modelo(imagen_tensor) # Pasa la imagen por el modelo\n",
    "\n",
    "        probabilidades = torch.nn.functional.softmax(salida, dim=1)[0] # Obtiene las probabilidades de la clase\n",
    "        confianza, indice_prediccion = torch.max(probabilidades, dim=0) # Obtiene la clase y la confianza con mayor probabilidad\n",
    "\n",
    "        return indice_prediccion.item(), confianza.item() # Devuelve la clase y la confianza\n",
    "    except FileNotFoundError: # Manejo de errores si no se encuentra la imagen\n",
    "        logging.error(f\"No se encuentra la imagen {ruta_imagen}\") # Registra el error\n",
    "        return -1, 0.0 # Devuelve un valor por defecto\n",
    "    except Image.UnidentifiedImageError: # Manejo de errores si no es una imagen\n",
    "        logging.error(f\"No es una imagen {ruta_imagen}\") # Registra el error\n",
    "        return -1, 0.0 # Devuelve un valor por defecto\n",
    "    except Exception as e: # Manejo de errores generales\n",
    "        logging.exception(f\"Error al procesar la imagen {ruta_imagen}: {e}\") # Registra el error\n",
    "        return -1, 0.0 # Devuelve un valor por defecto\n"
   ]
  },
  {
   "cell_type": "code",
   "execution_count": null,
   "metadata": {},
   "outputs": [],
   "source": [
    "def procesar_directorio_frames(directorio_frames):\n",
    "    \"\"\" Procesa un directorio de fotogramas y devuelve un DataFrame\n",
    "    \"\"\"\n",
    "    resultados = [] # Lista para almacenar los resultados\n",
    "    archivos_frame = glob.glob(os.path.join(directorio_frames, \"*.jpg\")) # Usa glob para obtener solo los archivos jpg\n",
    "    for archivo_frame in sorted(archivos_frame, key=lambda x: int(os.path.splitext(os.path.basename(x))[0])): # ordena con glob\n",
    "        try:\n",
    "            nombre_archivo = os.path.basename(archivo_frame) # Obtener el nombre del archivo\n",
    "            indice, confianza = procesar_fotograma(archivo_frame) # Procesar el fotograma\n",
    "            resultados.append([int(nombre_archivo[:-4]), indice, confianza]) # Agregar el resultado a la lista\n",
    "        except Exception as e: # Manejo de errores\n",
    "            logging.exception(f\"Error al procesar el directorio {directorio_frames}: {e}\")\n",
    "    df_resultados = pd.DataFrame(resultados, columns=[\"Frame\", \"indice\", \"confianza\"]) # Crear un DataFrame de pandas con los resultados\n",
    "    return df_resultados # Devolver el DataFrame\n",
    "\n",
    "# Rutas princiaples\n",
    "ruta_frames = \"frames\" # Ruta a la carpeta que contiene las carpetas de las categorías\n",
    "categorias = [\"coches\", \"mascotas\", \"comida\"] # Lista de las categorías\n",
    "\n",
    "# Procesamiento principal\n",
    "for categoria in categorias: # Iterar sobre las categorías\n",
    "    ruta_categoria_frames = os.path.join(ruta_frames, categoria) # Ruta a la carpeta de frames de la categoría\n",
    "    for video_carpeta in os.listdir(ruta_categoria_frames): # Iterar sobre las carpetas de frames de la categoría\n",
    "        ruta_video_frames = os.path.join(ruta_categoria_frames, video_carpeta) # Ruta a la carpeta de frames de la categoría\n",
    "        if os.path.isdir(ruta_video_frames): # Comprobar si es una carpeta\n",
    "            try:\n",
    "                df_resultados = procesar_directorio_frames(ruta_video_frames) # Procesar el directorio de frames\n",
    "                df_resultados.to_csv(os.path.join(ruta_video_frames, \"resultados.csv\"), index=False) # Guardar el DataFrame en el archivo resultados.csv\n",
    "                print(f\"Resultados del video: {video_carpeta} de la categoría {categoria} guardados\") # Imprimir mensaje de salida\n",
    "            except Exception as e: # Manejo de errores\n",
    "                logging.exception(f\"Error al procesar la categoría {categoria} y video: {video_carpeta}: {e}\") # Registrar el error"
   ]
  }
 ],
 "metadata": {
  "language_info": {
   "name": "python"
  }
 },
 "nbformat": 4,
 "nbformat_minor": 2
}
