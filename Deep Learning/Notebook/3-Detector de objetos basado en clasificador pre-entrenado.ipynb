{
 "cells": [
  {
   "cell_type": "code",
   "execution_count": null,
   "metadata": {},
   "outputs": [],
   "source": [
    "import tensorflow as tf\n",
    "from tensorflow.keras.applications import ResNet50, preprocess_input, decode_predictions\n",
    "from tensorflow.keras.preprocessing import image\n",
    "import pandas as pd\n",
    "import os\n",
    "import cv2\n",
    "\n",
    "def detect_objects_in_frames(frame_directory):\n",
    "    \"\"\"\n",
    "    Detecta objetos en fotogramas de un directorio utilizando ResNet50.\n",
    "\n",
    "    Args:\n",
    "        frame_directory (str): Ruta al directorio que contiene los fotogramas.\n",
    "\n",
    "    Returns:\n",
    "        pandas.DataFrame: DataFrame con el número de fotograma, clase predicha y confianza.\n",
    "    \"\"\"\n",
    "    model = ResNet50(weights='imagenet')\n",
    "    results = []\n",
    "    frame_files = sorted(os.listdir(frame_directory))\n",
    "\n",
    "    for frame_number, frame_file in enumerate(frame_files):\n",
    "        frame_path = os.path.join(frame_directory, frame_file)\n",
    "        try:\n",
    "            img = cv2.imread(frame_path)\n",
    "            img = cv2.resize(img, (224, 224))\n",
    "            img = image.img_to_array(img)\n",
    "            img = preprocess_input(img)\n",
    "            img = tf.expand_dims(img, axis=0)\n",
    "\n",
    "            predictions = model.predict(img)\n",
    "            decoded_predictions = decode_predictions(predictions, top=1)[0]\n",
    "            predicted_class = decoded_predictions[0][1]\n",
    "            confidence = float(decoded_predictions[0][2])\n",
    "\n",
    "            results.append([frame_number, predicted_class, confidence])\n",
    "        except Exception as e:\n",
    "            print(f\"Error processing {frame_file}: {e}\")\n",
    "\n",
    "    df = pd.DataFrame(results, columns=['frame_number', 'predicted_class', 'confidence'])\n",
    "    return df\n",
    "\n",
    "# Ruta a tus fotogramas\n",
    "frame_directory = r\"C:\\Users\\Usuario\\Desktop\\GitHub\\Grupo-Atrium\\Deep Learning\\frames\"\n",
    "\n",
    "# Ejecutar la detección de objetos y mostrar los resultados\n",
    "df_results = detect_objects_in_frames(frame_directory)\n",
    "print(df_results)"
   ]
  }
 ],
 "metadata": {
  "kernelspec": {
   "display_name": "Python 3",
   "language": "python",
   "name": "python3"
  },
  "language_info": {
   "codemirror_mode": {
    "name": "ipython",
    "version": 3
   },
   "file_extension": ".py",
   "mimetype": "text/x-python",
   "name": "python",
   "nbconvert_exporter": "python",
   "pygments_lexer": "ipython3",
   "version": "3.13.0"
  }
 },
 "nbformat": 4,
 "nbformat_minor": 4
}
