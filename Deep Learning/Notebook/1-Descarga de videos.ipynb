{
 "cells": [
  {
   "cell_type": "markdown",
   "id": "4259b0a2-e1fc-43c2-94f5-ef67b4a2b6d9",
   "metadata": {},
   "source": [
    "PARTE 1\n"
   ]
  },
  {
   "cell_type": "markdown",
   "id": "bf4f4ef0",
   "metadata": {},
   "source": [
    "Primero vamos a comenzar descargando 100 videos por categoria (coches, mascotas y comida)"
   ]
  },
  {
   "cell_type": "code",
   "execution_count": 2,
   "id": "38b4cc08-d3c3-4733-977d-0e3efbbbe39d",
   "metadata": {},
   "outputs": [
    {
     "name": "stdout",
     "output_type": "stream",
     "text": [
      "                                                         \r"
     ]
    },
    {
     "name": "stderr",
     "output_type": "stream",
     "text": [
      "ERROR: m3u8 download detected but ffmpeg could not be found. Please install\n",
      "ERROR: Unable to download video: [WinError 2] El sistema no puede encontrar el archivo especificado: 'videos\\\\coches\\\\Mecum Kissimmee： Saturday, January 18, 2025 2025-01-18 22_11-1tSIO9uw4r8.mp4.part'\n"
     ]
    },
    {
     "name": "stdout",
     "output_type": "stream",
     "text": [
      "                             \r"
     ]
    },
    {
     "name": "stderr",
     "output_type": "stream",
     "text": [
      "ERROR: unable to download video data: HTTP Error 416: Requested range not satisfiable\n"
     ]
    },
    {
     "name": "stdout",
     "output_type": "stream",
     "text": [
      "                                                                         \r"
     ]
    },
    {
     "name": "stderr",
     "output_type": "stream",
     "text": [
      "WARNING: moYafwZTv3Q: Possible MPEG-TS in MP4 container or malformed AAC timestamps. Install ffmpeg to fix this automatically\n"
     ]
    },
    {
     "name": "stdout",
     "output_type": "stream",
     "text": [
      "                                                                         \r"
     ]
    },
    {
     "name": "stderr",
     "output_type": "stream",
     "text": [
      "WARNING: EjaKWsOgl3s: Possible MPEG-TS in MP4 container or malformed AAC timestamps. Install ffmpeg to fix this automatically\n"
     ]
    },
    {
     "name": "stdout",
     "output_type": "stream",
     "text": [
      "                                                                        \r"
     ]
    },
    {
     "name": "stderr",
     "output_type": "stream",
     "text": [
      "WARNING: hzBpnJ9OYHE: Possible MPEG-TS in MP4 container or malformed AAC timestamps. Install ffmpeg to fix this automatically\n"
     ]
    },
    {
     "name": "stdout",
     "output_type": "stream",
     "text": [
      "                                                                         \r"
     ]
    },
    {
     "name": "stderr",
     "output_type": "stream",
     "text": [
      "WARNING: yGA3X2MQaL4: Possible MPEG-TS in MP4 container or malformed AAC timestamps. Install ffmpeg to fix this automatically\n"
     ]
    },
    {
     "name": "stdout",
     "output_type": "stream",
     "text": [
      "                                                                         \r"
     ]
    },
    {
     "name": "stderr",
     "output_type": "stream",
     "text": [
      "WARNING: FqqYKnXJFbM: Possible MPEG-TS in MP4 container or malformed AAC timestamps. Install ffmpeg to fix this automatically\n"
     ]
    },
    {
     "name": "stdout",
     "output_type": "stream",
     "text": [
      "                                                                         \r"
     ]
    },
    {
     "name": "stderr",
     "output_type": "stream",
     "text": [
      "WARNING: 8UnObnov1cE: Possible MPEG-TS in MP4 container or malformed AAC timestamps. Install ffmpeg to fix this automatically\n"
     ]
    },
    {
     "name": "stdout",
     "output_type": "stream",
     "text": [
      "                                                                         \r"
     ]
    },
    {
     "name": "stderr",
     "output_type": "stream",
     "text": [
      "WARNING: xq08rFrRf9k: Possible MPEG-TS in MP4 container or malformed AAC timestamps. Install ffmpeg to fix this automatically\n"
     ]
    },
    {
     "name": "stdout",
     "output_type": "stream",
     "text": [
      "                                                                         \r"
     ]
    },
    {
     "name": "stderr",
     "output_type": "stream",
     "text": [
      "WARNING: EMMJhN0VDIo: Possible MPEG-TS in MP4 container or malformed AAC timestamps. Install ffmpeg to fix this automatically\n"
     ]
    },
    {
     "name": "stdout",
     "output_type": "stream",
     "text": [
      "                                                                         \r"
     ]
    },
    {
     "name": "stderr",
     "output_type": "stream",
     "text": [
      "WARNING: m1cIDW7rw58: Possible MPEG-TS in MP4 container or malformed AAC timestamps. Install ffmpeg to fix this automatically\n"
     ]
    },
    {
     "name": "stdout",
     "output_type": "stream",
     "text": [
      "                                                                         \r"
     ]
    },
    {
     "name": "stderr",
     "output_type": "stream",
     "text": [
      "WARNING: qeWZU1XlaNk: Possible MPEG-TS in MP4 container or malformed AAC timestamps. Install ffmpeg to fix this automatically\n"
     ]
    },
    {
     "name": "stdout",
     "output_type": "stream",
     "text": [
      "                                                                       \r"
     ]
    },
    {
     "name": "stderr",
     "output_type": "stream",
     "text": [
      "WARNING: tYqG32Utu60: Possible MPEG-TS in MP4 container or malformed AAC timestamps. Install ffmpeg to fix this automatically\n"
     ]
    },
    {
     "name": "stdout",
     "output_type": "stream",
     "text": [
      "                                                                        \r"
     ]
    },
    {
     "name": "stderr",
     "output_type": "stream",
     "text": [
      "WARNING: AP8zx1NRf6E: Possible MPEG-TS in MP4 container or malformed AAC timestamps. Install ffmpeg to fix this automatically\n"
     ]
    },
    {
     "name": "stdout",
     "output_type": "stream",
     "text": [
      "Error al descargar videos: 'coches deportivos': Maximum number of downloads reached, stopping due to --max-downloads\n",
      "                                                                         \r"
     ]
    },
    {
     "name": "stderr",
     "output_type": "stream",
     "text": [
      "WARNING: -jT_hhSbpoc: Possible MPEG-TS in MP4 container or malformed AAC timestamps. Install ffmpeg to fix this automatically\n"
     ]
    },
    {
     "name": "stdout",
     "output_type": "stream",
     "text": [
      "                                                                        \r"
     ]
    },
    {
     "name": "stderr",
     "output_type": "stream",
     "text": [
      "WARNING: 3JnjypeOqvI: Possible MPEG-TS in MP4 container or malformed AAC timestamps. Install ffmpeg to fix this automatically\n"
     ]
    },
    {
     "name": "stdout",
     "output_type": "stream",
     "text": [
      "                                                                         \r"
     ]
    },
    {
     "name": "stderr",
     "output_type": "stream",
     "text": [
      "WARNING: Wpb8KYIlLsw: Possible MPEG-TS in MP4 container or malformed AAC timestamps. Install ffmpeg to fix this automatically\n"
     ]
    },
    {
     "name": "stdout",
     "output_type": "stream",
     "text": [
      "                                                                       \r"
     ]
    },
    {
     "name": "stderr",
     "output_type": "stream",
     "text": [
      "WARNING: nvafbCj91IU: Possible MPEG-TS in MP4 container or malformed AAC timestamps. Install ffmpeg to fix this automatically\n"
     ]
    },
    {
     "name": "stdout",
     "output_type": "stream",
     "text": [
      "Error al descargar videos: 'perros graciosos': Maximum number of downloads reached, stopping due to --max-downloads\n",
      "                                                                        \r"
     ]
    },
    {
     "name": "stderr",
     "output_type": "stream",
     "text": [
      "WARNING: CbiZBhzBtF4: Possible MPEG-TS in MP4 container or malformed AAC timestamps. Install ffmpeg to fix this automatically\n"
     ]
    },
    {
     "name": "stdout",
     "output_type": "stream",
     "text": [
      "                                                                        \r"
     ]
    },
    {
     "name": "stderr",
     "output_type": "stream",
     "text": [
      "WARNING: onESy--Zftk: Possible MPEG-TS in MP4 container or malformed AAC timestamps. Install ffmpeg to fix this automatically\n"
     ]
    },
    {
     "name": "stdout",
     "output_type": "stream",
     "text": [
      "                                                                        \r"
     ]
    },
    {
     "name": "stderr",
     "output_type": "stream",
     "text": [
      "WARNING: VvXw7JDOasQ: Possible MPEG-TS in MP4 container or malformed AAC timestamps. Install ffmpeg to fix this automatically\n"
     ]
    },
    {
     "name": "stdout",
     "output_type": "stream",
     "text": [
      "                                                                        \r"
     ]
    },
    {
     "name": "stderr",
     "output_type": "stream",
     "text": [
      "WARNING: RKOOBNSbZPI: Possible MPEG-TS in MP4 container or malformed AAC timestamps. Install ffmpeg to fix this automatically\n"
     ]
    },
    {
     "name": "stdout",
     "output_type": "stream",
     "text": [
      "                                                                        \r"
     ]
    },
    {
     "name": "stderr",
     "output_type": "stream",
     "text": [
      "WARNING: Ehdo4Clll_Y: Possible MPEG-TS in MP4 container or malformed AAC timestamps. Install ffmpeg to fix this automatically\n"
     ]
    },
    {
     "name": "stdout",
     "output_type": "stream",
     "text": [
      "Error al descargar videos: 'recetas faciles': Maximum number of downloads reached, stopping due to --max-downloads\n"
     ]
    }
   ],
   "source": [
    "import yt_dlp\n",
    "import os\n",
    "import random\n",
    "import time\n",
    "\n",
    "def descargar_videos(consulta, directorio_destino, cantidad=100):\n",
    "    \"\"\"\n",
    "    Busca y descarga videos de Youtube.\n",
    "    \n",
    "    Args:\n",
    "        consulta: La consulta de busqueda\n",
    "        directorio_destino: El directorio donde se guardaran los videos\n",
    "        cantidad: La cantidad de videos a descargar.\n",
    "    \"\"\"\n",
    "    ydl_opts = {\n",
    "        'outtmpl': directorio_destino + '/%(title)s-%(id)s.%(ext)s',\n",
    "        'format': 'bestvideo[height<=240][ext=mp4]/best[ext=mp4]/best', # Formato de video a descargar\n",
    "        'ignoreerrors': True,\n",
    "        'quiet': True, #Modo silencioso para evitar mucha salida en consola\n",
    "        'nocheckcertificate': True, # Para evitar errores de certificado\n",
    "        'ratelimit': 1024*1024, # limita la velocidad de descarga a 1MB/s para no saturar la red\n",
    "        'throttling': 0.5, # Introducimos retardo entre descargas para evitar bloqueos\n",
    "        'no-check-formats': True, # Evita que se compruebe el formato de los videos\n",
    "        'merge_output_format': 'mp4', # Formato de salida para todos los videos\n",
    "        'max_downloads': cantidad,\n",
    "        }\n",
    "    \n",
    "    try:\n",
    "        with yt_dlp.YoutubeDL(ydl_opts) as ydl:\n",
    "            ydl.download([f\"ytsearch{cantidad}:{consulta}\"])\n",
    "            print(f\"Descarga de '{consulta}' completada. {cantidad} videos guardados en {directorio_destino}\")\n",
    "    except yt_dlp.utils.DownloadError as e:\n",
    "        print(f\"Error en la busqueda o descarga de '{consulta}': {e}\")\n",
    "    except Exception as e:\n",
    "        print(f\"Error al descargar videos: '{consulta}': {e}\")\n",
    "\n",
    "def descargar_categorias(categorias, directorio_base=\"videos\", cantidad=100):\n",
    "    \"\"\"\n",
    "    Descarga todos los videos de las categorias especificadas.\n",
    "    \n",
    "    Args:\n",
    "        categorias: Lista de categorias a descargar.\n",
    "        directorio_base: Directorio base donde se guardarán los videos.\n",
    "        cantidad: Cantidad de videos a descargar.\n",
    "    \"\"\"\n",
    "    for categoria, consulta in categorias.items():\n",
    "        directorio_categoria = os.path.join(directorio_base, categoria)\n",
    "        os.makedirs(directorio_categoria, exist_ok=True) # Crea el directorio si no existe\n",
    "        descargar_videos(consulta, directorio_categoria, cantidad)\n",
    "        time.sleep(random.randint(5, 15)) # Retardo aleatorio para evitar bloqueos\n",
    "\n",
    "# Definir las categorias y consultas a buscar\n",
    "categorias = {\n",
    "    \"coches\": \"coches deportivos\",\n",
    "    \"mascotas\": \"perros graciosos\",\n",
    "    \"comida\": \"recetas faciles\",\n",
    "}\n",
    "\n",
    "# Descargar los videos\n",
    "descargar_categorias(categorias, cantidad=100)\n",
    "        "
   ]
  },
  {
   "cell_type": "markdown",
   "id": "f0d93a8c",
   "metadata": {},
   "source": [
    "He escogido yt-dlp en lugar de otras librerias ya que actualmente está mas actualizado  y se adapta mejor a los cambios que Youtube hace.\n",
    "* Estructura:\n",
    "    * Función descargar_videos(): Esta función descarga los videos de la lista de videos que se le pasa como argumento.\n",
    "    * Función descargar_categorias(): Esta función recibe un diccionario con las categorias y sus respecticas consultas de busqueda. Itera sobre este diccionario y llama a la función descargar_videos() para descargar los videos de cada categoria. Ademas crea los directorios para cada categoria.\n",
    "    * Si necesito modificar algo de la descarga lo hago en descargar_videos(). Si necesito añadir mas categorias, lo hago en descargar_categorias()."
   ]
  },
  {
   "cell_type": "markdown",
   "id": "e3268e02",
   "metadata": {},
   "source": [
    "* EXPLICACIÓN: \n",
    "Tomamos videos que están ordenados por categorías en carpetas (ej: \"videos/coches\", \"videos/mascotas\", \"videos/comida\") y sacamos fotos (fotogramas) de esos videos. Estas fotos las guardamos en una carpeta nueva llamada \"frames\", manteniendo la misma organización por categorías (ej: \"frames/coches\", \"frames/mascotas\", \"frames/comida\"). Dentro de cada carpeta de categoría en \"frames\", creamos subcarpetas con el nombre del video original, y ahí dentro guardamos las fotos."
   ]
  }
 ],
 "metadata": {
  "kernelspec": {
   "display_name": "Python 3",
   "language": "python",
   "name": "python3"
  },
  "language_info": {
   "codemirror_mode": {
    "name": "ipython",
    "version": 3
   },
   "file_extension": ".py",
   "mimetype": "text/x-python",
   "name": "python",
   "nbconvert_exporter": "python",
   "pygments_lexer": "ipython3",
   "version": "3.13.0"
  }
 },
 "nbformat": 4,
 "nbformat_minor": 5
}
